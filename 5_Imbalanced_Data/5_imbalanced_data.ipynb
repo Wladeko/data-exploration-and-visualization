{
  "cells": [
    {
      "cell_type": "code",
      "execution_count": 50,
      "metadata": {
        "id": "ooar7AYAQ9wS"
      },
      "outputs": [],
      "source": [
        "import pandas as pd\n",
        "import numpy as np\n",
        "import matplotlib.pyplot as plt\n",
        "import seaborn as sns"
      ]
    },
    {
      "cell_type": "code",
      "source": [
        "from sklearn.datasets import load_breast_cancer\n",
        "from sklearn.model_selection import cross_validate, train_test_split\n",
        "from sklearn.linear_model import LogisticRegression\n",
        "from sklearn.utils import resample\n",
        "from sklearn.metrics import accuracy_score, precision_score, recall_score, confusion_matrix\n",
        "\n",
        "from imblearn.under_sampling import RandomUnderSampler\n",
        "from imblearn.over_sampling import SMOTE\n",
        "\n",
        "from copy import copy"
      ],
      "metadata": {
        "id": "DnPV8scuRr43"
      },
      "execution_count": 51,
      "outputs": []
    },
    {
      "cell_type": "code",
      "source": [
        "data = load_breast_cancer(as_frame=True)"
      ],
      "metadata": {
        "id": "e_RiWp7UR3i-"
      },
      "execution_count": 52,
      "outputs": []
    },
    {
      "cell_type": "code",
      "source": [
        "data.keys()"
      ],
      "metadata": {
        "id": "mgxci5NKR4yi",
        "outputId": "b5480093-ea7c-4f8d-f1cf-9fb090b2b1c3",
        "colab": {
          "base_uri": "https://localhost:8080/"
        }
      },
      "execution_count": 53,
      "outputs": [
        {
          "output_type": "execute_result",
          "data": {
            "text/plain": [
              "dict_keys(['data', 'target', 'frame', 'target_names', 'DESCR', 'feature_names', 'filename', 'data_module'])"
            ]
          },
          "metadata": {},
          "execution_count": 53
        }
      ]
    },
    {
      "cell_type": "code",
      "source": [
        "X = data[\"data\"]\n",
        "y = data[\"target\"]"
      ],
      "metadata": {
        "id": "UUzYiiC4aTPh"
      },
      "execution_count": 54,
      "outputs": []
    },
    {
      "cell_type": "code",
      "source": [
        "X.head()"
      ],
      "metadata": {
        "id": "cVOTIrV8SIsl",
        "outputId": "da8ace47-c76f-46ac-c12f-f8bceabfa6a4",
        "colab": {
          "base_uri": "https://localhost:8080/",
          "height": 314
        }
      },
      "execution_count": 55,
      "outputs": [
        {
          "output_type": "execute_result",
          "data": {
            "text/plain": [
              "   mean radius  mean texture  mean perimeter  mean area  mean smoothness  \\\n",
              "0        17.99         10.38          122.80     1001.0          0.11840   \n",
              "1        20.57         17.77          132.90     1326.0          0.08474   \n",
              "2        19.69         21.25          130.00     1203.0          0.10960   \n",
              "3        11.42         20.38           77.58      386.1          0.14250   \n",
              "4        20.29         14.34          135.10     1297.0          0.10030   \n",
              "\n",
              "   mean compactness  mean concavity  mean concave points  mean symmetry  \\\n",
              "0           0.27760          0.3001              0.14710         0.2419   \n",
              "1           0.07864          0.0869              0.07017         0.1812   \n",
              "2           0.15990          0.1974              0.12790         0.2069   \n",
              "3           0.28390          0.2414              0.10520         0.2597   \n",
              "4           0.13280          0.1980              0.10430         0.1809   \n",
              "\n",
              "   mean fractal dimension  ...  worst radius  worst texture  worst perimeter  \\\n",
              "0                 0.07871  ...         25.38          17.33           184.60   \n",
              "1                 0.05667  ...         24.99          23.41           158.80   \n",
              "2                 0.05999  ...         23.57          25.53           152.50   \n",
              "3                 0.09744  ...         14.91          26.50            98.87   \n",
              "4                 0.05883  ...         22.54          16.67           152.20   \n",
              "\n",
              "   worst area  worst smoothness  worst compactness  worst concavity  \\\n",
              "0      2019.0            0.1622             0.6656           0.7119   \n",
              "1      1956.0            0.1238             0.1866           0.2416   \n",
              "2      1709.0            0.1444             0.4245           0.4504   \n",
              "3       567.7            0.2098             0.8663           0.6869   \n",
              "4      1575.0            0.1374             0.2050           0.4000   \n",
              "\n",
              "   worst concave points  worst symmetry  worst fractal dimension  \n",
              "0                0.2654          0.4601                  0.11890  \n",
              "1                0.1860          0.2750                  0.08902  \n",
              "2                0.2430          0.3613                  0.08758  \n",
              "3                0.2575          0.6638                  0.17300  \n",
              "4                0.1625          0.2364                  0.07678  \n",
              "\n",
              "[5 rows x 30 columns]"
            ],
            "text/html": [
              "\n",
              "  <div id=\"df-442fb376-88b5-4c24-96fc-e2874d9ae444\">\n",
              "    <div class=\"colab-df-container\">\n",
              "      <div>\n",
              "<style scoped>\n",
              "    .dataframe tbody tr th:only-of-type {\n",
              "        vertical-align: middle;\n",
              "    }\n",
              "\n",
              "    .dataframe tbody tr th {\n",
              "        vertical-align: top;\n",
              "    }\n",
              "\n",
              "    .dataframe thead th {\n",
              "        text-align: right;\n",
              "    }\n",
              "</style>\n",
              "<table border=\"1\" class=\"dataframe\">\n",
              "  <thead>\n",
              "    <tr style=\"text-align: right;\">\n",
              "      <th></th>\n",
              "      <th>mean radius</th>\n",
              "      <th>mean texture</th>\n",
              "      <th>mean perimeter</th>\n",
              "      <th>mean area</th>\n",
              "      <th>mean smoothness</th>\n",
              "      <th>mean compactness</th>\n",
              "      <th>mean concavity</th>\n",
              "      <th>mean concave points</th>\n",
              "      <th>mean symmetry</th>\n",
              "      <th>mean fractal dimension</th>\n",
              "      <th>...</th>\n",
              "      <th>worst radius</th>\n",
              "      <th>worst texture</th>\n",
              "      <th>worst perimeter</th>\n",
              "      <th>worst area</th>\n",
              "      <th>worst smoothness</th>\n",
              "      <th>worst compactness</th>\n",
              "      <th>worst concavity</th>\n",
              "      <th>worst concave points</th>\n",
              "      <th>worst symmetry</th>\n",
              "      <th>worst fractal dimension</th>\n",
              "    </tr>\n",
              "  </thead>\n",
              "  <tbody>\n",
              "    <tr>\n",
              "      <th>0</th>\n",
              "      <td>17.99</td>\n",
              "      <td>10.38</td>\n",
              "      <td>122.80</td>\n",
              "      <td>1001.0</td>\n",
              "      <td>0.11840</td>\n",
              "      <td>0.27760</td>\n",
              "      <td>0.3001</td>\n",
              "      <td>0.14710</td>\n",
              "      <td>0.2419</td>\n",
              "      <td>0.07871</td>\n",
              "      <td>...</td>\n",
              "      <td>25.38</td>\n",
              "      <td>17.33</td>\n",
              "      <td>184.60</td>\n",
              "      <td>2019.0</td>\n",
              "      <td>0.1622</td>\n",
              "      <td>0.6656</td>\n",
              "      <td>0.7119</td>\n",
              "      <td>0.2654</td>\n",
              "      <td>0.4601</td>\n",
              "      <td>0.11890</td>\n",
              "    </tr>\n",
              "    <tr>\n",
              "      <th>1</th>\n",
              "      <td>20.57</td>\n",
              "      <td>17.77</td>\n",
              "      <td>132.90</td>\n",
              "      <td>1326.0</td>\n",
              "      <td>0.08474</td>\n",
              "      <td>0.07864</td>\n",
              "      <td>0.0869</td>\n",
              "      <td>0.07017</td>\n",
              "      <td>0.1812</td>\n",
              "      <td>0.05667</td>\n",
              "      <td>...</td>\n",
              "      <td>24.99</td>\n",
              "      <td>23.41</td>\n",
              "      <td>158.80</td>\n",
              "      <td>1956.0</td>\n",
              "      <td>0.1238</td>\n",
              "      <td>0.1866</td>\n",
              "      <td>0.2416</td>\n",
              "      <td>0.1860</td>\n",
              "      <td>0.2750</td>\n",
              "      <td>0.08902</td>\n",
              "    </tr>\n",
              "    <tr>\n",
              "      <th>2</th>\n",
              "      <td>19.69</td>\n",
              "      <td>21.25</td>\n",
              "      <td>130.00</td>\n",
              "      <td>1203.0</td>\n",
              "      <td>0.10960</td>\n",
              "      <td>0.15990</td>\n",
              "      <td>0.1974</td>\n",
              "      <td>0.12790</td>\n",
              "      <td>0.2069</td>\n",
              "      <td>0.05999</td>\n",
              "      <td>...</td>\n",
              "      <td>23.57</td>\n",
              "      <td>25.53</td>\n",
              "      <td>152.50</td>\n",
              "      <td>1709.0</td>\n",
              "      <td>0.1444</td>\n",
              "      <td>0.4245</td>\n",
              "      <td>0.4504</td>\n",
              "      <td>0.2430</td>\n",
              "      <td>0.3613</td>\n",
              "      <td>0.08758</td>\n",
              "    </tr>\n",
              "    <tr>\n",
              "      <th>3</th>\n",
              "      <td>11.42</td>\n",
              "      <td>20.38</td>\n",
              "      <td>77.58</td>\n",
              "      <td>386.1</td>\n",
              "      <td>0.14250</td>\n",
              "      <td>0.28390</td>\n",
              "      <td>0.2414</td>\n",
              "      <td>0.10520</td>\n",
              "      <td>0.2597</td>\n",
              "      <td>0.09744</td>\n",
              "      <td>...</td>\n",
              "      <td>14.91</td>\n",
              "      <td>26.50</td>\n",
              "      <td>98.87</td>\n",
              "      <td>567.7</td>\n",
              "      <td>0.2098</td>\n",
              "      <td>0.8663</td>\n",
              "      <td>0.6869</td>\n",
              "      <td>0.2575</td>\n",
              "      <td>0.6638</td>\n",
              "      <td>0.17300</td>\n",
              "    </tr>\n",
              "    <tr>\n",
              "      <th>4</th>\n",
              "      <td>20.29</td>\n",
              "      <td>14.34</td>\n",
              "      <td>135.10</td>\n",
              "      <td>1297.0</td>\n",
              "      <td>0.10030</td>\n",
              "      <td>0.13280</td>\n",
              "      <td>0.1980</td>\n",
              "      <td>0.10430</td>\n",
              "      <td>0.1809</td>\n",
              "      <td>0.05883</td>\n",
              "      <td>...</td>\n",
              "      <td>22.54</td>\n",
              "      <td>16.67</td>\n",
              "      <td>152.20</td>\n",
              "      <td>1575.0</td>\n",
              "      <td>0.1374</td>\n",
              "      <td>0.2050</td>\n",
              "      <td>0.4000</td>\n",
              "      <td>0.1625</td>\n",
              "      <td>0.2364</td>\n",
              "      <td>0.07678</td>\n",
              "    </tr>\n",
              "  </tbody>\n",
              "</table>\n",
              "<p>5 rows × 30 columns</p>\n",
              "</div>\n",
              "      <button class=\"colab-df-convert\" onclick=\"convertToInteractive('df-442fb376-88b5-4c24-96fc-e2874d9ae444')\"\n",
              "              title=\"Convert this dataframe to an interactive table.\"\n",
              "              style=\"display:none;\">\n",
              "        \n",
              "  <svg xmlns=\"http://www.w3.org/2000/svg\" height=\"24px\"viewBox=\"0 0 24 24\"\n",
              "       width=\"24px\">\n",
              "    <path d=\"M0 0h24v24H0V0z\" fill=\"none\"/>\n",
              "    <path d=\"M18.56 5.44l.94 2.06.94-2.06 2.06-.94-2.06-.94-.94-2.06-.94 2.06-2.06.94zm-11 1L8.5 8.5l.94-2.06 2.06-.94-2.06-.94L8.5 2.5l-.94 2.06-2.06.94zm10 10l.94 2.06.94-2.06 2.06-.94-2.06-.94-.94-2.06-.94 2.06-2.06.94z\"/><path d=\"M17.41 7.96l-1.37-1.37c-.4-.4-.92-.59-1.43-.59-.52 0-1.04.2-1.43.59L10.3 9.45l-7.72 7.72c-.78.78-.78 2.05 0 2.83L4 21.41c.39.39.9.59 1.41.59.51 0 1.02-.2 1.41-.59l7.78-7.78 2.81-2.81c.8-.78.8-2.07 0-2.86zM5.41 20L4 18.59l7.72-7.72 1.47 1.35L5.41 20z\"/>\n",
              "  </svg>\n",
              "      </button>\n",
              "      \n",
              "  <style>\n",
              "    .colab-df-container {\n",
              "      display:flex;\n",
              "      flex-wrap:wrap;\n",
              "      gap: 12px;\n",
              "    }\n",
              "\n",
              "    .colab-df-convert {\n",
              "      background-color: #E8F0FE;\n",
              "      border: none;\n",
              "      border-radius: 50%;\n",
              "      cursor: pointer;\n",
              "      display: none;\n",
              "      fill: #1967D2;\n",
              "      height: 32px;\n",
              "      padding: 0 0 0 0;\n",
              "      width: 32px;\n",
              "    }\n",
              "\n",
              "    .colab-df-convert:hover {\n",
              "      background-color: #E2EBFA;\n",
              "      box-shadow: 0px 1px 2px rgba(60, 64, 67, 0.3), 0px 1px 3px 1px rgba(60, 64, 67, 0.15);\n",
              "      fill: #174EA6;\n",
              "    }\n",
              "\n",
              "    [theme=dark] .colab-df-convert {\n",
              "      background-color: #3B4455;\n",
              "      fill: #D2E3FC;\n",
              "    }\n",
              "\n",
              "    [theme=dark] .colab-df-convert:hover {\n",
              "      background-color: #434B5C;\n",
              "      box-shadow: 0px 1px 3px 1px rgba(0, 0, 0, 0.15);\n",
              "      filter: drop-shadow(0px 1px 2px rgba(0, 0, 0, 0.3));\n",
              "      fill: #FFFFFF;\n",
              "    }\n",
              "  </style>\n",
              "\n",
              "      <script>\n",
              "        const buttonEl =\n",
              "          document.querySelector('#df-442fb376-88b5-4c24-96fc-e2874d9ae444 button.colab-df-convert');\n",
              "        buttonEl.style.display =\n",
              "          google.colab.kernel.accessAllowed ? 'block' : 'none';\n",
              "\n",
              "        async function convertToInteractive(key) {\n",
              "          const element = document.querySelector('#df-442fb376-88b5-4c24-96fc-e2874d9ae444');\n",
              "          const dataTable =\n",
              "            await google.colab.kernel.invokeFunction('convertToInteractive',\n",
              "                                                     [key], {});\n",
              "          if (!dataTable) return;\n",
              "\n",
              "          const docLinkHtml = 'Like what you see? Visit the ' +\n",
              "            '<a target=\"_blank\" href=https://colab.research.google.com/notebooks/data_table.ipynb>data table notebook</a>'\n",
              "            + ' to learn more about interactive tables.';\n",
              "          element.innerHTML = '';\n",
              "          dataTable['output_type'] = 'display_data';\n",
              "          await google.colab.output.renderOutput(dataTable, element);\n",
              "          const docLink = document.createElement('div');\n",
              "          docLink.innerHTML = docLinkHtml;\n",
              "          element.appendChild(docLink);\n",
              "        }\n",
              "      </script>\n",
              "    </div>\n",
              "  </div>\n",
              "  "
            ]
          },
          "metadata": {},
          "execution_count": 55
        }
      ]
    },
    {
      "cell_type": "code",
      "source": [
        "count = np.bincount(y)\n",
        "print(f\"Class benign: {count[0]} observations ({round(count[0]/count.sum()*100, 2)}%)\")\n",
        "print(f\"Class malignant: {count[1]} observations ({round(count[1]/count.sum()*100, 2)}%)\")"
      ],
      "metadata": {
        "id": "RH3vY8P0ayYO",
        "outputId": "ab0e6463-e5de-4579-9ce2-8654a02ca002",
        "colab": {
          "base_uri": "https://localhost:8080/"
        }
      },
      "execution_count": 56,
      "outputs": [
        {
          "output_type": "stream",
          "name": "stdout",
          "text": [
            "Class benign: 212 observations (37.26%)\n",
            "Class malignant: 357 observations (62.74%)\n"
          ]
        }
      ]
    },
    {
      "cell_type": "code",
      "source": [
        "def get_mean_result(result):\n",
        "    out = {}\n",
        "    out['accuracy'] = round(result['test_accuracy'].mean(), 4)\n",
        "    out['recall'] = round(result['test_recall'].mean(), 4)\n",
        "    out['precision'] = round(result['test_precision'].mean(), 4)\n",
        "    return out"
      ],
      "metadata": {
        "id": "85GUDnlBee4q"
      },
      "execution_count": 57,
      "outputs": []
    },
    {
      "cell_type": "code",
      "source": [
        "def get_scores(pred, true):\n",
        "    out = {}\n",
        "    out['accuracy'] = round(accuracy_score(pred, true), 4)\n",
        "    out['recall'] = round(recall_score(pred, true), 4)\n",
        "    out['precision'] = round(precision_score(pred, true), 4)\n",
        "    return out"
      ],
      "metadata": {
        "id": "H2Et13oOpJku"
      },
      "execution_count": 58,
      "outputs": []
    },
    {
      "cell_type": "markdown",
      "source": [
        "## 1 and 2"
      ],
      "metadata": {
        "id": "ZWS6VloRdPKh"
      }
    },
    {
      "cell_type": "code",
      "source": [
        "logreg = LogisticRegression(max_iter=10000)"
      ],
      "metadata": {
        "id": "8vR3AmoDbMcs"
      },
      "execution_count": 59,
      "outputs": []
    },
    {
      "cell_type": "code",
      "source": [
        "cv_results = cross_validate(logreg, X, y, cv=5, scoring=('accuracy', 'recall', 'precision'))"
      ],
      "metadata": {
        "id": "g8TozNT1dIAF"
      },
      "execution_count": 60,
      "outputs": []
    },
    {
      "cell_type": "code",
      "source": [
        "result = get_mean_result(cv_results)"
      ],
      "metadata": {
        "id": "v6PtmmlRdRIB"
      },
      "execution_count": 61,
      "outputs": []
    },
    {
      "cell_type": "code",
      "source": [
        "print(result)"
      ],
      "metadata": {
        "colab": {
          "base_uri": "https://localhost:8080/"
        },
        "id": "2VgLF8swdx9F",
        "outputId": "5eaf92a8-8e2c-4380-cdc2-36bff517dad9"
      },
      "execution_count": 62,
      "outputs": [
        {
          "output_type": "stream",
          "name": "stdout",
          "text": [
            "{'accuracy': 0.9508, 'recall': 0.9692, 'precision': 0.9543}\n"
          ]
        }
      ]
    },
    {
      "cell_type": "code",
      "source": [
        "X_train, X_test, y_train, y_test = train_test_split(X, y, test_size=0.2, random_state=42)"
      ],
      "metadata": {
        "id": "NfOR_UmZnWOh"
      },
      "execution_count": 63,
      "outputs": []
    },
    {
      "cell_type": "code",
      "source": [
        "logreg.fit(X_train, y_train)\n",
        "pred = logreg.predict(X_test)"
      ],
      "metadata": {
        "id": "v1FlGE3Zvhyq"
      },
      "execution_count": 64,
      "outputs": []
    },
    {
      "cell_type": "code",
      "source": [
        "get_scores(pred, y_test)"
      ],
      "metadata": {
        "id": "IEcTrJ7IvoiE",
        "outputId": "52c3b88a-9c78-4022-d96f-5ba953fb50e2",
        "colab": {
          "base_uri": "https://localhost:8080/"
        }
      },
      "execution_count": 65,
      "outputs": [
        {
          "output_type": "execute_result",
          "data": {
            "text/plain": [
              "{'accuracy': 0.9561, 'recall': 0.9459, 'precision': 0.9859}"
            ]
          },
          "metadata": {},
          "execution_count": 65
        }
      ]
    },
    {
      "cell_type": "code",
      "source": [
        "confusion_matrix(pred, y_test)"
      ],
      "metadata": {
        "id": "Yw1_1etzvs7K",
        "outputId": "5fd902d5-f03c-4431-e228-e76c173e468b",
        "colab": {
          "base_uri": "https://localhost:8080/"
        }
      },
      "execution_count": 66,
      "outputs": [
        {
          "output_type": "execute_result",
          "data": {
            "text/plain": [
              "array([[39,  1],\n",
              "       [ 4, 70]])"
            ]
          },
          "metadata": {},
          "execution_count": 66
        }
      ]
    },
    {
      "cell_type": "markdown",
      "source": [
        "## Reducing"
      ],
      "metadata": {
        "id": "-M_SSY5DfdZa"
      }
    },
    {
      "cell_type": "code",
      "source": [
        "print(f\"New samples: {count.sum()//10}\")"
      ],
      "metadata": {
        "id": "5HHT4X6kgSre",
        "outputId": "83d5d0e9-d33c-4774-ae7d-9b6650ed0171",
        "colab": {
          "base_uri": "https://localhost:8080/"
        }
      },
      "execution_count": 67,
      "outputs": [
        {
          "output_type": "stream",
          "name": "stdout",
          "text": [
            "New samples: 56\n"
          ]
        }
      ]
    },
    {
      "cell_type": "code",
      "source": [
        "df = copy(X)\n",
        "df[\"diagnosis\"] = copy(y)"
      ],
      "metadata": {
        "id": "1PhZNraMjumD"
      },
      "execution_count": 68,
      "outputs": []
    },
    {
      "cell_type": "code",
      "source": [
        "malignant_df = df[df[\"diagnosis\"] == 1]  # Subset of malignant observations\n",
        "benign_df = df[df[\"diagnosis\"] == 0]  # Subset of benign observations"
      ],
      "metadata": {
        "id": "eWmHUZR1kK00"
      },
      "execution_count": 69,
      "outputs": []
    },
    {
      "cell_type": "code",
      "source": [
        "samples = int(round(0.1 * benign_df.shape[0] / 0.9))\n",
        "print(f\"New samples: {samples}\")"
      ],
      "metadata": {
        "id": "EOt_XP7akygV",
        "outputId": "02711bb6-0a09-4808-abda-f7a7a2f9f814",
        "colab": {
          "base_uri": "https://localhost:8080/"
        }
      },
      "execution_count": 70,
      "outputs": [
        {
          "output_type": "stream",
          "name": "stdout",
          "text": [
            "New samples: 24\n"
          ]
        }
      ]
    },
    {
      "cell_type": "code",
      "source": [
        "reduced_malignant_df = resample(malignant_df, n_samples=samples, random_state=111)\n",
        "reduced_data = pd.concat([benign_df, reduced_malignant_df])"
      ],
      "metadata": {
        "id": "xKNIYS12kPtv"
      },
      "execution_count": 71,
      "outputs": []
    },
    {
      "cell_type": "code",
      "source": [
        "reduced_data.head()"
      ],
      "metadata": {
        "id": "F65W8vBykuDR",
        "outputId": "4490eff2-d1dc-46cb-b049-6595c74a0934",
        "colab": {
          "base_uri": "https://localhost:8080/",
          "height": 314
        }
      },
      "execution_count": 72,
      "outputs": [
        {
          "output_type": "execute_result",
          "data": {
            "text/plain": [
              "   mean radius  mean texture  mean perimeter  mean area  mean smoothness  \\\n",
              "0        17.99         10.38          122.80     1001.0          0.11840   \n",
              "1        20.57         17.77          132.90     1326.0          0.08474   \n",
              "2        19.69         21.25          130.00     1203.0          0.10960   \n",
              "3        11.42         20.38           77.58      386.1          0.14250   \n",
              "4        20.29         14.34          135.10     1297.0          0.10030   \n",
              "\n",
              "   mean compactness  mean concavity  mean concave points  mean symmetry  \\\n",
              "0           0.27760          0.3001              0.14710         0.2419   \n",
              "1           0.07864          0.0869              0.07017         0.1812   \n",
              "2           0.15990          0.1974              0.12790         0.2069   \n",
              "3           0.28390          0.2414              0.10520         0.2597   \n",
              "4           0.13280          0.1980              0.10430         0.1809   \n",
              "\n",
              "   mean fractal dimension  ...  worst texture  worst perimeter  worst area  \\\n",
              "0                 0.07871  ...          17.33           184.60      2019.0   \n",
              "1                 0.05667  ...          23.41           158.80      1956.0   \n",
              "2                 0.05999  ...          25.53           152.50      1709.0   \n",
              "3                 0.09744  ...          26.50            98.87       567.7   \n",
              "4                 0.05883  ...          16.67           152.20      1575.0   \n",
              "\n",
              "   worst smoothness  worst compactness  worst concavity  worst concave points  \\\n",
              "0            0.1622             0.6656           0.7119                0.2654   \n",
              "1            0.1238             0.1866           0.2416                0.1860   \n",
              "2            0.1444             0.4245           0.4504                0.2430   \n",
              "3            0.2098             0.8663           0.6869                0.2575   \n",
              "4            0.1374             0.2050           0.4000                0.1625   \n",
              "\n",
              "   worst symmetry  worst fractal dimension  diagnosis  \n",
              "0          0.4601                  0.11890          0  \n",
              "1          0.2750                  0.08902          0  \n",
              "2          0.3613                  0.08758          0  \n",
              "3          0.6638                  0.17300          0  \n",
              "4          0.2364                  0.07678          0  \n",
              "\n",
              "[5 rows x 31 columns]"
            ],
            "text/html": [
              "\n",
              "  <div id=\"df-4f27d1b2-aef7-4c3d-a68c-f519c0f74d1a\">\n",
              "    <div class=\"colab-df-container\">\n",
              "      <div>\n",
              "<style scoped>\n",
              "    .dataframe tbody tr th:only-of-type {\n",
              "        vertical-align: middle;\n",
              "    }\n",
              "\n",
              "    .dataframe tbody tr th {\n",
              "        vertical-align: top;\n",
              "    }\n",
              "\n",
              "    .dataframe thead th {\n",
              "        text-align: right;\n",
              "    }\n",
              "</style>\n",
              "<table border=\"1\" class=\"dataframe\">\n",
              "  <thead>\n",
              "    <tr style=\"text-align: right;\">\n",
              "      <th></th>\n",
              "      <th>mean radius</th>\n",
              "      <th>mean texture</th>\n",
              "      <th>mean perimeter</th>\n",
              "      <th>mean area</th>\n",
              "      <th>mean smoothness</th>\n",
              "      <th>mean compactness</th>\n",
              "      <th>mean concavity</th>\n",
              "      <th>mean concave points</th>\n",
              "      <th>mean symmetry</th>\n",
              "      <th>mean fractal dimension</th>\n",
              "      <th>...</th>\n",
              "      <th>worst texture</th>\n",
              "      <th>worst perimeter</th>\n",
              "      <th>worst area</th>\n",
              "      <th>worst smoothness</th>\n",
              "      <th>worst compactness</th>\n",
              "      <th>worst concavity</th>\n",
              "      <th>worst concave points</th>\n",
              "      <th>worst symmetry</th>\n",
              "      <th>worst fractal dimension</th>\n",
              "      <th>diagnosis</th>\n",
              "    </tr>\n",
              "  </thead>\n",
              "  <tbody>\n",
              "    <tr>\n",
              "      <th>0</th>\n",
              "      <td>17.99</td>\n",
              "      <td>10.38</td>\n",
              "      <td>122.80</td>\n",
              "      <td>1001.0</td>\n",
              "      <td>0.11840</td>\n",
              "      <td>0.27760</td>\n",
              "      <td>0.3001</td>\n",
              "      <td>0.14710</td>\n",
              "      <td>0.2419</td>\n",
              "      <td>0.07871</td>\n",
              "      <td>...</td>\n",
              "      <td>17.33</td>\n",
              "      <td>184.60</td>\n",
              "      <td>2019.0</td>\n",
              "      <td>0.1622</td>\n",
              "      <td>0.6656</td>\n",
              "      <td>0.7119</td>\n",
              "      <td>0.2654</td>\n",
              "      <td>0.4601</td>\n",
              "      <td>0.11890</td>\n",
              "      <td>0</td>\n",
              "    </tr>\n",
              "    <tr>\n",
              "      <th>1</th>\n",
              "      <td>20.57</td>\n",
              "      <td>17.77</td>\n",
              "      <td>132.90</td>\n",
              "      <td>1326.0</td>\n",
              "      <td>0.08474</td>\n",
              "      <td>0.07864</td>\n",
              "      <td>0.0869</td>\n",
              "      <td>0.07017</td>\n",
              "      <td>0.1812</td>\n",
              "      <td>0.05667</td>\n",
              "      <td>...</td>\n",
              "      <td>23.41</td>\n",
              "      <td>158.80</td>\n",
              "      <td>1956.0</td>\n",
              "      <td>0.1238</td>\n",
              "      <td>0.1866</td>\n",
              "      <td>0.2416</td>\n",
              "      <td>0.1860</td>\n",
              "      <td>0.2750</td>\n",
              "      <td>0.08902</td>\n",
              "      <td>0</td>\n",
              "    </tr>\n",
              "    <tr>\n",
              "      <th>2</th>\n",
              "      <td>19.69</td>\n",
              "      <td>21.25</td>\n",
              "      <td>130.00</td>\n",
              "      <td>1203.0</td>\n",
              "      <td>0.10960</td>\n",
              "      <td>0.15990</td>\n",
              "      <td>0.1974</td>\n",
              "      <td>0.12790</td>\n",
              "      <td>0.2069</td>\n",
              "      <td>0.05999</td>\n",
              "      <td>...</td>\n",
              "      <td>25.53</td>\n",
              "      <td>152.50</td>\n",
              "      <td>1709.0</td>\n",
              "      <td>0.1444</td>\n",
              "      <td>0.4245</td>\n",
              "      <td>0.4504</td>\n",
              "      <td>0.2430</td>\n",
              "      <td>0.3613</td>\n",
              "      <td>0.08758</td>\n",
              "      <td>0</td>\n",
              "    </tr>\n",
              "    <tr>\n",
              "      <th>3</th>\n",
              "      <td>11.42</td>\n",
              "      <td>20.38</td>\n",
              "      <td>77.58</td>\n",
              "      <td>386.1</td>\n",
              "      <td>0.14250</td>\n",
              "      <td>0.28390</td>\n",
              "      <td>0.2414</td>\n",
              "      <td>0.10520</td>\n",
              "      <td>0.2597</td>\n",
              "      <td>0.09744</td>\n",
              "      <td>...</td>\n",
              "      <td>26.50</td>\n",
              "      <td>98.87</td>\n",
              "      <td>567.7</td>\n",
              "      <td>0.2098</td>\n",
              "      <td>0.8663</td>\n",
              "      <td>0.6869</td>\n",
              "      <td>0.2575</td>\n",
              "      <td>0.6638</td>\n",
              "      <td>0.17300</td>\n",
              "      <td>0</td>\n",
              "    </tr>\n",
              "    <tr>\n",
              "      <th>4</th>\n",
              "      <td>20.29</td>\n",
              "      <td>14.34</td>\n",
              "      <td>135.10</td>\n",
              "      <td>1297.0</td>\n",
              "      <td>0.10030</td>\n",
              "      <td>0.13280</td>\n",
              "      <td>0.1980</td>\n",
              "      <td>0.10430</td>\n",
              "      <td>0.1809</td>\n",
              "      <td>0.05883</td>\n",
              "      <td>...</td>\n",
              "      <td>16.67</td>\n",
              "      <td>152.20</td>\n",
              "      <td>1575.0</td>\n",
              "      <td>0.1374</td>\n",
              "      <td>0.2050</td>\n",
              "      <td>0.4000</td>\n",
              "      <td>0.1625</td>\n",
              "      <td>0.2364</td>\n",
              "      <td>0.07678</td>\n",
              "      <td>0</td>\n",
              "    </tr>\n",
              "  </tbody>\n",
              "</table>\n",
              "<p>5 rows × 31 columns</p>\n",
              "</div>\n",
              "      <button class=\"colab-df-convert\" onclick=\"convertToInteractive('df-4f27d1b2-aef7-4c3d-a68c-f519c0f74d1a')\"\n",
              "              title=\"Convert this dataframe to an interactive table.\"\n",
              "              style=\"display:none;\">\n",
              "        \n",
              "  <svg xmlns=\"http://www.w3.org/2000/svg\" height=\"24px\"viewBox=\"0 0 24 24\"\n",
              "       width=\"24px\">\n",
              "    <path d=\"M0 0h24v24H0V0z\" fill=\"none\"/>\n",
              "    <path d=\"M18.56 5.44l.94 2.06.94-2.06 2.06-.94-2.06-.94-.94-2.06-.94 2.06-2.06.94zm-11 1L8.5 8.5l.94-2.06 2.06-.94-2.06-.94L8.5 2.5l-.94 2.06-2.06.94zm10 10l.94 2.06.94-2.06 2.06-.94-2.06-.94-.94-2.06-.94 2.06-2.06.94z\"/><path d=\"M17.41 7.96l-1.37-1.37c-.4-.4-.92-.59-1.43-.59-.52 0-1.04.2-1.43.59L10.3 9.45l-7.72 7.72c-.78.78-.78 2.05 0 2.83L4 21.41c.39.39.9.59 1.41.59.51 0 1.02-.2 1.41-.59l7.78-7.78 2.81-2.81c.8-.78.8-2.07 0-2.86zM5.41 20L4 18.59l7.72-7.72 1.47 1.35L5.41 20z\"/>\n",
              "  </svg>\n",
              "      </button>\n",
              "      \n",
              "  <style>\n",
              "    .colab-df-container {\n",
              "      display:flex;\n",
              "      flex-wrap:wrap;\n",
              "      gap: 12px;\n",
              "    }\n",
              "\n",
              "    .colab-df-convert {\n",
              "      background-color: #E8F0FE;\n",
              "      border: none;\n",
              "      border-radius: 50%;\n",
              "      cursor: pointer;\n",
              "      display: none;\n",
              "      fill: #1967D2;\n",
              "      height: 32px;\n",
              "      padding: 0 0 0 0;\n",
              "      width: 32px;\n",
              "    }\n",
              "\n",
              "    .colab-df-convert:hover {\n",
              "      background-color: #E2EBFA;\n",
              "      box-shadow: 0px 1px 2px rgba(60, 64, 67, 0.3), 0px 1px 3px 1px rgba(60, 64, 67, 0.15);\n",
              "      fill: #174EA6;\n",
              "    }\n",
              "\n",
              "    [theme=dark] .colab-df-convert {\n",
              "      background-color: #3B4455;\n",
              "      fill: #D2E3FC;\n",
              "    }\n",
              "\n",
              "    [theme=dark] .colab-df-convert:hover {\n",
              "      background-color: #434B5C;\n",
              "      box-shadow: 0px 1px 3px 1px rgba(0, 0, 0, 0.15);\n",
              "      filter: drop-shadow(0px 1px 2px rgba(0, 0, 0, 0.3));\n",
              "      fill: #FFFFFF;\n",
              "    }\n",
              "  </style>\n",
              "\n",
              "      <script>\n",
              "        const buttonEl =\n",
              "          document.querySelector('#df-4f27d1b2-aef7-4c3d-a68c-f519c0f74d1a button.colab-df-convert');\n",
              "        buttonEl.style.display =\n",
              "          google.colab.kernel.accessAllowed ? 'block' : 'none';\n",
              "\n",
              "        async function convertToInteractive(key) {\n",
              "          const element = document.querySelector('#df-4f27d1b2-aef7-4c3d-a68c-f519c0f74d1a');\n",
              "          const dataTable =\n",
              "            await google.colab.kernel.invokeFunction('convertToInteractive',\n",
              "                                                     [key], {});\n",
              "          if (!dataTable) return;\n",
              "\n",
              "          const docLinkHtml = 'Like what you see? Visit the ' +\n",
              "            '<a target=\"_blank\" href=https://colab.research.google.com/notebooks/data_table.ipynb>data table notebook</a>'\n",
              "            + ' to learn more about interactive tables.';\n",
              "          element.innerHTML = '';\n",
              "          dataTable['output_type'] = 'display_data';\n",
              "          await google.colab.output.renderOutput(dataTable, element);\n",
              "          const docLink = document.createElement('div');\n",
              "          docLink.innerHTML = docLinkHtml;\n",
              "          element.appendChild(docLink);\n",
              "        }\n",
              "      </script>\n",
              "    </div>\n",
              "  </div>\n",
              "  "
            ]
          },
          "metadata": {},
          "execution_count": 72
        }
      ]
    },
    {
      "cell_type": "code",
      "source": [
        "X_reduced = reduced_data.iloc[:, :-1]  # Features\n",
        "y_reduced = reduced_data[\"diagnosis\"]  # Target variable"
      ],
      "metadata": {
        "id": "jsbYdeNZfUcq"
      },
      "execution_count": 73,
      "outputs": []
    },
    {
      "cell_type": "code",
      "source": [
        "X_reduced.head()"
      ],
      "metadata": {
        "id": "t5lPTYIIgjc_",
        "outputId": "b12ff9b3-79ab-4b53-af13-e4bd4c92c76d",
        "colab": {
          "base_uri": "https://localhost:8080/",
          "height": 314
        }
      },
      "execution_count": 74,
      "outputs": [
        {
          "output_type": "execute_result",
          "data": {
            "text/plain": [
              "   mean radius  mean texture  mean perimeter  mean area  mean smoothness  \\\n",
              "0        17.99         10.38          122.80     1001.0          0.11840   \n",
              "1        20.57         17.77          132.90     1326.0          0.08474   \n",
              "2        19.69         21.25          130.00     1203.0          0.10960   \n",
              "3        11.42         20.38           77.58      386.1          0.14250   \n",
              "4        20.29         14.34          135.10     1297.0          0.10030   \n",
              "\n",
              "   mean compactness  mean concavity  mean concave points  mean symmetry  \\\n",
              "0           0.27760          0.3001              0.14710         0.2419   \n",
              "1           0.07864          0.0869              0.07017         0.1812   \n",
              "2           0.15990          0.1974              0.12790         0.2069   \n",
              "3           0.28390          0.2414              0.10520         0.2597   \n",
              "4           0.13280          0.1980              0.10430         0.1809   \n",
              "\n",
              "   mean fractal dimension  ...  worst radius  worst texture  worst perimeter  \\\n",
              "0                 0.07871  ...         25.38          17.33           184.60   \n",
              "1                 0.05667  ...         24.99          23.41           158.80   \n",
              "2                 0.05999  ...         23.57          25.53           152.50   \n",
              "3                 0.09744  ...         14.91          26.50            98.87   \n",
              "4                 0.05883  ...         22.54          16.67           152.20   \n",
              "\n",
              "   worst area  worst smoothness  worst compactness  worst concavity  \\\n",
              "0      2019.0            0.1622             0.6656           0.7119   \n",
              "1      1956.0            0.1238             0.1866           0.2416   \n",
              "2      1709.0            0.1444             0.4245           0.4504   \n",
              "3       567.7            0.2098             0.8663           0.6869   \n",
              "4      1575.0            0.1374             0.2050           0.4000   \n",
              "\n",
              "   worst concave points  worst symmetry  worst fractal dimension  \n",
              "0                0.2654          0.4601                  0.11890  \n",
              "1                0.1860          0.2750                  0.08902  \n",
              "2                0.2430          0.3613                  0.08758  \n",
              "3                0.2575          0.6638                  0.17300  \n",
              "4                0.1625          0.2364                  0.07678  \n",
              "\n",
              "[5 rows x 30 columns]"
            ],
            "text/html": [
              "\n",
              "  <div id=\"df-ee409a32-1cbe-4b6e-b70c-9cf3f8fe9448\">\n",
              "    <div class=\"colab-df-container\">\n",
              "      <div>\n",
              "<style scoped>\n",
              "    .dataframe tbody tr th:only-of-type {\n",
              "        vertical-align: middle;\n",
              "    }\n",
              "\n",
              "    .dataframe tbody tr th {\n",
              "        vertical-align: top;\n",
              "    }\n",
              "\n",
              "    .dataframe thead th {\n",
              "        text-align: right;\n",
              "    }\n",
              "</style>\n",
              "<table border=\"1\" class=\"dataframe\">\n",
              "  <thead>\n",
              "    <tr style=\"text-align: right;\">\n",
              "      <th></th>\n",
              "      <th>mean radius</th>\n",
              "      <th>mean texture</th>\n",
              "      <th>mean perimeter</th>\n",
              "      <th>mean area</th>\n",
              "      <th>mean smoothness</th>\n",
              "      <th>mean compactness</th>\n",
              "      <th>mean concavity</th>\n",
              "      <th>mean concave points</th>\n",
              "      <th>mean symmetry</th>\n",
              "      <th>mean fractal dimension</th>\n",
              "      <th>...</th>\n",
              "      <th>worst radius</th>\n",
              "      <th>worst texture</th>\n",
              "      <th>worst perimeter</th>\n",
              "      <th>worst area</th>\n",
              "      <th>worst smoothness</th>\n",
              "      <th>worst compactness</th>\n",
              "      <th>worst concavity</th>\n",
              "      <th>worst concave points</th>\n",
              "      <th>worst symmetry</th>\n",
              "      <th>worst fractal dimension</th>\n",
              "    </tr>\n",
              "  </thead>\n",
              "  <tbody>\n",
              "    <tr>\n",
              "      <th>0</th>\n",
              "      <td>17.99</td>\n",
              "      <td>10.38</td>\n",
              "      <td>122.80</td>\n",
              "      <td>1001.0</td>\n",
              "      <td>0.11840</td>\n",
              "      <td>0.27760</td>\n",
              "      <td>0.3001</td>\n",
              "      <td>0.14710</td>\n",
              "      <td>0.2419</td>\n",
              "      <td>0.07871</td>\n",
              "      <td>...</td>\n",
              "      <td>25.38</td>\n",
              "      <td>17.33</td>\n",
              "      <td>184.60</td>\n",
              "      <td>2019.0</td>\n",
              "      <td>0.1622</td>\n",
              "      <td>0.6656</td>\n",
              "      <td>0.7119</td>\n",
              "      <td>0.2654</td>\n",
              "      <td>0.4601</td>\n",
              "      <td>0.11890</td>\n",
              "    </tr>\n",
              "    <tr>\n",
              "      <th>1</th>\n",
              "      <td>20.57</td>\n",
              "      <td>17.77</td>\n",
              "      <td>132.90</td>\n",
              "      <td>1326.0</td>\n",
              "      <td>0.08474</td>\n",
              "      <td>0.07864</td>\n",
              "      <td>0.0869</td>\n",
              "      <td>0.07017</td>\n",
              "      <td>0.1812</td>\n",
              "      <td>0.05667</td>\n",
              "      <td>...</td>\n",
              "      <td>24.99</td>\n",
              "      <td>23.41</td>\n",
              "      <td>158.80</td>\n",
              "      <td>1956.0</td>\n",
              "      <td>0.1238</td>\n",
              "      <td>0.1866</td>\n",
              "      <td>0.2416</td>\n",
              "      <td>0.1860</td>\n",
              "      <td>0.2750</td>\n",
              "      <td>0.08902</td>\n",
              "    </tr>\n",
              "    <tr>\n",
              "      <th>2</th>\n",
              "      <td>19.69</td>\n",
              "      <td>21.25</td>\n",
              "      <td>130.00</td>\n",
              "      <td>1203.0</td>\n",
              "      <td>0.10960</td>\n",
              "      <td>0.15990</td>\n",
              "      <td>0.1974</td>\n",
              "      <td>0.12790</td>\n",
              "      <td>0.2069</td>\n",
              "      <td>0.05999</td>\n",
              "      <td>...</td>\n",
              "      <td>23.57</td>\n",
              "      <td>25.53</td>\n",
              "      <td>152.50</td>\n",
              "      <td>1709.0</td>\n",
              "      <td>0.1444</td>\n",
              "      <td>0.4245</td>\n",
              "      <td>0.4504</td>\n",
              "      <td>0.2430</td>\n",
              "      <td>0.3613</td>\n",
              "      <td>0.08758</td>\n",
              "    </tr>\n",
              "    <tr>\n",
              "      <th>3</th>\n",
              "      <td>11.42</td>\n",
              "      <td>20.38</td>\n",
              "      <td>77.58</td>\n",
              "      <td>386.1</td>\n",
              "      <td>0.14250</td>\n",
              "      <td>0.28390</td>\n",
              "      <td>0.2414</td>\n",
              "      <td>0.10520</td>\n",
              "      <td>0.2597</td>\n",
              "      <td>0.09744</td>\n",
              "      <td>...</td>\n",
              "      <td>14.91</td>\n",
              "      <td>26.50</td>\n",
              "      <td>98.87</td>\n",
              "      <td>567.7</td>\n",
              "      <td>0.2098</td>\n",
              "      <td>0.8663</td>\n",
              "      <td>0.6869</td>\n",
              "      <td>0.2575</td>\n",
              "      <td>0.6638</td>\n",
              "      <td>0.17300</td>\n",
              "    </tr>\n",
              "    <tr>\n",
              "      <th>4</th>\n",
              "      <td>20.29</td>\n",
              "      <td>14.34</td>\n",
              "      <td>135.10</td>\n",
              "      <td>1297.0</td>\n",
              "      <td>0.10030</td>\n",
              "      <td>0.13280</td>\n",
              "      <td>0.1980</td>\n",
              "      <td>0.10430</td>\n",
              "      <td>0.1809</td>\n",
              "      <td>0.05883</td>\n",
              "      <td>...</td>\n",
              "      <td>22.54</td>\n",
              "      <td>16.67</td>\n",
              "      <td>152.20</td>\n",
              "      <td>1575.0</td>\n",
              "      <td>0.1374</td>\n",
              "      <td>0.2050</td>\n",
              "      <td>0.4000</td>\n",
              "      <td>0.1625</td>\n",
              "      <td>0.2364</td>\n",
              "      <td>0.07678</td>\n",
              "    </tr>\n",
              "  </tbody>\n",
              "</table>\n",
              "<p>5 rows × 30 columns</p>\n",
              "</div>\n",
              "      <button class=\"colab-df-convert\" onclick=\"convertToInteractive('df-ee409a32-1cbe-4b6e-b70c-9cf3f8fe9448')\"\n",
              "              title=\"Convert this dataframe to an interactive table.\"\n",
              "              style=\"display:none;\">\n",
              "        \n",
              "  <svg xmlns=\"http://www.w3.org/2000/svg\" height=\"24px\"viewBox=\"0 0 24 24\"\n",
              "       width=\"24px\">\n",
              "    <path d=\"M0 0h24v24H0V0z\" fill=\"none\"/>\n",
              "    <path d=\"M18.56 5.44l.94 2.06.94-2.06 2.06-.94-2.06-.94-.94-2.06-.94 2.06-2.06.94zm-11 1L8.5 8.5l.94-2.06 2.06-.94-2.06-.94L8.5 2.5l-.94 2.06-2.06.94zm10 10l.94 2.06.94-2.06 2.06-.94-2.06-.94-.94-2.06-.94 2.06-2.06.94z\"/><path d=\"M17.41 7.96l-1.37-1.37c-.4-.4-.92-.59-1.43-.59-.52 0-1.04.2-1.43.59L10.3 9.45l-7.72 7.72c-.78.78-.78 2.05 0 2.83L4 21.41c.39.39.9.59 1.41.59.51 0 1.02-.2 1.41-.59l7.78-7.78 2.81-2.81c.8-.78.8-2.07 0-2.86zM5.41 20L4 18.59l7.72-7.72 1.47 1.35L5.41 20z\"/>\n",
              "  </svg>\n",
              "      </button>\n",
              "      \n",
              "  <style>\n",
              "    .colab-df-container {\n",
              "      display:flex;\n",
              "      flex-wrap:wrap;\n",
              "      gap: 12px;\n",
              "    }\n",
              "\n",
              "    .colab-df-convert {\n",
              "      background-color: #E8F0FE;\n",
              "      border: none;\n",
              "      border-radius: 50%;\n",
              "      cursor: pointer;\n",
              "      display: none;\n",
              "      fill: #1967D2;\n",
              "      height: 32px;\n",
              "      padding: 0 0 0 0;\n",
              "      width: 32px;\n",
              "    }\n",
              "\n",
              "    .colab-df-convert:hover {\n",
              "      background-color: #E2EBFA;\n",
              "      box-shadow: 0px 1px 2px rgba(60, 64, 67, 0.3), 0px 1px 3px 1px rgba(60, 64, 67, 0.15);\n",
              "      fill: #174EA6;\n",
              "    }\n",
              "\n",
              "    [theme=dark] .colab-df-convert {\n",
              "      background-color: #3B4455;\n",
              "      fill: #D2E3FC;\n",
              "    }\n",
              "\n",
              "    [theme=dark] .colab-df-convert:hover {\n",
              "      background-color: #434B5C;\n",
              "      box-shadow: 0px 1px 3px 1px rgba(0, 0, 0, 0.15);\n",
              "      filter: drop-shadow(0px 1px 2px rgba(0, 0, 0, 0.3));\n",
              "      fill: #FFFFFF;\n",
              "    }\n",
              "  </style>\n",
              "\n",
              "      <script>\n",
              "        const buttonEl =\n",
              "          document.querySelector('#df-ee409a32-1cbe-4b6e-b70c-9cf3f8fe9448 button.colab-df-convert');\n",
              "        buttonEl.style.display =\n",
              "          google.colab.kernel.accessAllowed ? 'block' : 'none';\n",
              "\n",
              "        async function convertToInteractive(key) {\n",
              "          const element = document.querySelector('#df-ee409a32-1cbe-4b6e-b70c-9cf3f8fe9448');\n",
              "          const dataTable =\n",
              "            await google.colab.kernel.invokeFunction('convertToInteractive',\n",
              "                                                     [key], {});\n",
              "          if (!dataTable) return;\n",
              "\n",
              "          const docLinkHtml = 'Like what you see? Visit the ' +\n",
              "            '<a target=\"_blank\" href=https://colab.research.google.com/notebooks/data_table.ipynb>data table notebook</a>'\n",
              "            + ' to learn more about interactive tables.';\n",
              "          element.innerHTML = '';\n",
              "          dataTable['output_type'] = 'display_data';\n",
              "          await google.colab.output.renderOutput(dataTable, element);\n",
              "          const docLink = document.createElement('div');\n",
              "          docLink.innerHTML = docLinkHtml;\n",
              "          element.appendChild(docLink);\n",
              "        }\n",
              "      </script>\n",
              "    </div>\n",
              "  </div>\n",
              "  "
            ]
          },
          "metadata": {},
          "execution_count": 74
        }
      ]
    },
    {
      "cell_type": "code",
      "source": [
        "count_reduced = np.bincount(y_reduced)\n",
        "print(f\"Class benign: {count_reduced[0]} observations ({round(count_reduced[0]/count_reduced.sum()*100, 2)}%)\")\n",
        "print(f\"Class malignant: {count_reduced[1]} observations ({round(count_reduced[1]/count_reduced.sum()*100, 2)}%)\")"
      ],
      "metadata": {
        "id": "FzqWxP3wgyAY",
        "outputId": "35d304b8-ea36-4334-f737-591bdc144841",
        "colab": {
          "base_uri": "https://localhost:8080/"
        }
      },
      "execution_count": 75,
      "outputs": [
        {
          "output_type": "stream",
          "name": "stdout",
          "text": [
            "Class benign: 212 observations (89.83%)\n",
            "Class malignant: 24 observations (10.17%)\n"
          ]
        }
      ]
    },
    {
      "cell_type": "code",
      "source": [
        "logreg_reduced = LogisticRegression(max_iter=10000)"
      ],
      "metadata": {
        "id": "GA6nXqqnhISk"
      },
      "execution_count": 76,
      "outputs": []
    },
    {
      "cell_type": "code",
      "source": [
        "cv_results_reduced = cross_validate(logreg_reduced, X_reduced, y_reduced, cv=5, scoring=('accuracy', 'recall', 'precision'))"
      ],
      "metadata": {
        "id": "njzkIB46hISl"
      },
      "execution_count": 77,
      "outputs": []
    },
    {
      "cell_type": "code",
      "source": [
        "result_reduced = get_mean_result(cv_results_reduced)"
      ],
      "metadata": {
        "id": "eLcnUlO9hISl"
      },
      "execution_count": 78,
      "outputs": []
    },
    {
      "cell_type": "code",
      "source": [
        "print(result_reduced)"
      ],
      "metadata": {
        "outputId": "2d7dee0c-e4f5-49c8-a5c8-f21db8413b90",
        "colab": {
          "base_uri": "https://localhost:8080/"
        },
        "id": "FR2p1rx2hISl"
      },
      "execution_count": 79,
      "outputs": [
        {
          "output_type": "stream",
          "name": "stdout",
          "text": [
            "{'accuracy': 0.9617, 'recall': 0.79, 'precision': 0.8629}\n"
          ]
        }
      ]
    },
    {
      "cell_type": "code",
      "source": [
        "# X_reduced_train, X_reduced_test, y_reduced_train, y_reduced_test = train_test_split(X_reduced, y_reduced, test_size=0.2, random_state=42)"
      ],
      "metadata": {
        "id": "LO3Ys4Cox7wc"
      },
      "execution_count": 80,
      "outputs": []
    },
    {
      "cell_type": "code",
      "source": [
        "# logreg_reduced.fit(X_reduced_train, y_reduced_train)\n",
        "# pred_reduced = logreg_reduced.predict(X_reduced_test)"
      ],
      "metadata": {
        "id": "aP2EI1j4hV-j"
      },
      "execution_count": 81,
      "outputs": []
    },
    {
      "cell_type": "code",
      "source": [
        "# scores_reduced = get_scores(pred_reduced, y_reduced_test)"
      ],
      "metadata": {
        "id": "zfAJKyKRo6i4"
      },
      "execution_count": 82,
      "outputs": []
    },
    {
      "cell_type": "code",
      "source": [
        "# print(scores_reduced)"
      ],
      "metadata": {
        "id": "_3f5GELdpfMx"
      },
      "execution_count": 83,
      "outputs": []
    },
    {
      "cell_type": "code",
      "source": [
        "# confusion_matrix(pred_reduced, y_reduced_test)"
      ],
      "metadata": {
        "id": "y2GFhg3Ipg_C"
      },
      "execution_count": 84,
      "outputs": []
    },
    {
      "cell_type": "markdown",
      "source": [
        "## Undersampling"
      ],
      "metadata": {
        "id": "SXhyFdN3w1Zz"
      }
    },
    {
      "cell_type": "markdown",
      "source": [
        "#### Original"
      ],
      "metadata": {
        "id": "QrogoMKl8mFx"
      }
    },
    {
      "cell_type": "code",
      "source": [
        "undersampler = RandomUnderSampler(random_state=42)\n",
        "X_undersampled, y_undersampled = undersampler.fit_resample(X, y)"
      ],
      "metadata": {
        "id": "ClSQdbXwv2Kh"
      },
      "execution_count": 85,
      "outputs": []
    },
    {
      "cell_type": "code",
      "source": [
        "count_undersampled = np.bincount(y_undersampled)\n",
        "print(f\"Class benign: {count_undersampled[0]} observations ({round(count_undersampled[0]/count_undersampled.sum()*100, 2)}%)\")\n",
        "print(f\"Class malignant: {count_undersampled[1]} observations ({round(count_undersampled[1]/count_undersampled.sum()*100, 2)}%)\")"
      ],
      "metadata": {
        "id": "NBLnvKcO1FdB",
        "outputId": "e85a4bc6-be58-41a2-afb4-ef1dd5af26e7",
        "colab": {
          "base_uri": "https://localhost:8080/"
        }
      },
      "execution_count": 86,
      "outputs": [
        {
          "output_type": "stream",
          "name": "stdout",
          "text": [
            "Class benign: 212 observations (50.0%)\n",
            "Class malignant: 212 observations (50.0%)\n"
          ]
        }
      ]
    },
    {
      "cell_type": "code",
      "source": [
        "logreg_undersampled = LogisticRegression(max_iter=10000)\n"
      ],
      "metadata": {
        "id": "fYRUcmM3xLPQ"
      },
      "execution_count": 87,
      "outputs": []
    },
    {
      "cell_type": "code",
      "source": [
        "cv_results_undersampled = cross_validate(logreg_undersampled, X_undersampled, y_undersampled, cv=5, scoring=('accuracy', 'recall', 'precision'))"
      ],
      "metadata": {
        "id": "LgNgBp4_yuWT"
      },
      "execution_count": 88,
      "outputs": []
    },
    {
      "cell_type": "code",
      "source": [
        "result_undersampled = get_mean_result(cv_results_undersampled)"
      ],
      "metadata": {
        "id": "p0BJCShPyuWU"
      },
      "execution_count": 89,
      "outputs": []
    },
    {
      "cell_type": "code",
      "source": [
        "print(result_undersampled)"
      ],
      "metadata": {
        "outputId": "71a84236-c1a2-4f5b-b2b6-b284105b6e90",
        "colab": {
          "base_uri": "https://localhost:8080/"
        },
        "id": "dBXLswcTyuWU"
      },
      "execution_count": 90,
      "outputs": [
        {
          "output_type": "stream",
          "name": "stdout",
          "text": [
            "{'accuracy': 0.9435, 'recall': 0.9575, 'precision': 0.9335}\n"
          ]
        }
      ]
    },
    {
      "cell_type": "markdown",
      "source": [
        "#### Reduced"
      ],
      "metadata": {
        "id": "6L-1T4wj8os6"
      }
    },
    {
      "cell_type": "code",
      "source": [
        "undersampler = RandomUnderSampler(random_state=42)\n",
        "X_undersampled_reduced, y_undersampled_reduced = undersampler.fit_resample(X_reduced, y_reduced)"
      ],
      "metadata": {
        "id": "1N8sLELU8jUE"
      },
      "execution_count": 91,
      "outputs": []
    },
    {
      "cell_type": "code",
      "source": [
        "count_undersampled = np.bincount(y_undersampled_reduced)\n",
        "print(f\"Class benign: {count_undersampled[0]} observations ({round(count_undersampled[0]/count_undersampled.sum()*100, 2)}%)\")\n",
        "print(f\"Class malignant: {count_undersampled[1]} observations ({round(count_undersampled[1]/count_undersampled.sum()*100, 2)}%)\")"
      ],
      "metadata": {
        "outputId": "08b4175d-73f1-4916-ff14-a2e17a6bb773",
        "colab": {
          "base_uri": "https://localhost:8080/"
        },
        "id": "auMsQNvj8jUL"
      },
      "execution_count": 92,
      "outputs": [
        {
          "output_type": "stream",
          "name": "stdout",
          "text": [
            "Class benign: 24 observations (50.0%)\n",
            "Class malignant: 24 observations (50.0%)\n"
          ]
        }
      ]
    },
    {
      "cell_type": "code",
      "source": [
        "logreg_undersampled_reduced = LogisticRegression(max_iter=10000)\n"
      ],
      "metadata": {
        "id": "2YM_W6Qq8jUM"
      },
      "execution_count": 93,
      "outputs": []
    },
    {
      "cell_type": "code",
      "source": [
        "cv_results_undersampled_reduced = cross_validate(logreg_undersampled_reduced, X_undersampled_reduced, y_undersampled_reduced, cv=5, scoring=('accuracy', 'recall', 'precision'))"
      ],
      "metadata": {
        "id": "j9lP2UTr8jUM"
      },
      "execution_count": 94,
      "outputs": []
    },
    {
      "cell_type": "code",
      "source": [
        "result_undersampled_reduced = get_mean_result(cv_results_undersampled_reduced)"
      ],
      "metadata": {
        "id": "42wnY2dA8jUM"
      },
      "execution_count": 95,
      "outputs": []
    },
    {
      "cell_type": "code",
      "source": [
        "print(result_undersampled_reduced)"
      ],
      "metadata": {
        "outputId": "01d4796e-01f9-4855-b845-b4637a5a223e",
        "colab": {
          "base_uri": "https://localhost:8080/"
        },
        "id": "VHHKZdzp8jUM"
      },
      "execution_count": 96,
      "outputs": [
        {
          "output_type": "stream",
          "name": "stdout",
          "text": [
            "{'accuracy': 0.9178, 'recall': 0.92, 'precision': 0.9267}\n"
          ]
        }
      ]
    },
    {
      "cell_type": "markdown",
      "source": [
        "## Oversampling"
      ],
      "metadata": {
        "id": "Kx968QgA1tKI"
      }
    },
    {
      "cell_type": "markdown",
      "source": [
        "#### Original"
      ],
      "metadata": {
        "id": "cC9QSPJ49PUc"
      }
    },
    {
      "cell_type": "code",
      "source": [
        "oversampler = SMOTE(random_state=42)\n",
        "X_oversampled, y_oversampled = oversampler.fit_resample(X, y)"
      ],
      "metadata": {
        "id": "bIsfc3Ag062L"
      },
      "execution_count": 97,
      "outputs": []
    },
    {
      "cell_type": "code",
      "source": [
        "count_oversampled = np.bincount(y_oversampled)\n",
        "print(f\"Class benign: {count_oversampled[0]} observations ({round(count_oversampled[0]/count_oversampled.sum()*100, 2)}%)\")\n",
        "print(f\"Class malignant: {count_oversampled[1]} observations ({round(count_oversampled[1]/count_oversampled.sum()*100, 2)}%)\")"
      ],
      "metadata": {
        "id": "M3V5xDzI11Tm",
        "outputId": "84174ee8-e7de-435a-cb87-6b08af5859bc",
        "colab": {
          "base_uri": "https://localhost:8080/"
        }
      },
      "execution_count": 98,
      "outputs": [
        {
          "output_type": "stream",
          "name": "stdout",
          "text": [
            "Class benign: 357 observations (50.0%)\n",
            "Class malignant: 357 observations (50.0%)\n"
          ]
        }
      ]
    },
    {
      "cell_type": "code",
      "source": [
        "logreg_oversampled = LogisticRegression(max_iter=10000)"
      ],
      "metadata": {
        "id": "X6S_HTTC19jM"
      },
      "execution_count": 99,
      "outputs": []
    },
    {
      "cell_type": "code",
      "source": [
        "cv_results_oversampled = cross_validate(logreg_oversampled, X_oversampled, y_oversampled, cv=5, scoring=('accuracy', 'recall', 'precision'))"
      ],
      "metadata": {
        "id": "IupkRfvp2D_e"
      },
      "execution_count": 100,
      "outputs": []
    },
    {
      "cell_type": "code",
      "source": [
        "result_oversampled = get_mean_result(cv_results_oversampled)"
      ],
      "metadata": {
        "id": "wbwEE2TC2D_m"
      },
      "execution_count": 101,
      "outputs": []
    },
    {
      "cell_type": "code",
      "source": [
        "print(result_oversampled)"
      ],
      "metadata": {
        "outputId": "881109a2-a1e5-4b5c-b6ed-a139733c8ec7",
        "colab": {
          "base_uri": "https://localhost:8080/"
        },
        "id": "JR_Z5SEb2D_n"
      },
      "execution_count": 102,
      "outputs": [
        {
          "output_type": "stream",
          "name": "stdout",
          "text": [
            "{'accuracy': 0.9538, 'recall': 0.9552, 'precision': 0.9528}\n"
          ]
        }
      ]
    },
    {
      "cell_type": "markdown",
      "source": [
        "#### Reduced"
      ],
      "metadata": {
        "id": "TbexxLKs9Rdp"
      }
    },
    {
      "cell_type": "code",
      "source": [
        "oversampler = SMOTE(random_state=42)\n",
        "X_oversampled_reduced, y_oversampled_reduced = oversampler.fit_resample(X_reduced, y_reduced)"
      ],
      "metadata": {
        "id": "30djBdYC9ahq"
      },
      "execution_count": 103,
      "outputs": []
    },
    {
      "cell_type": "code",
      "source": [
        "count_oversampled = np.bincount(y_oversampled_reduced)\n",
        "print(f\"Class benign: {count_oversampled[0]} observations ({round(count_oversampled[0]/count_oversampled.sum()*100, 2)}%)\")\n",
        "print(f\"Class malignant: {count_oversampled[1]} observations ({round(count_oversampled[1]/count_oversampled.sum()*100, 2)}%)\")"
      ],
      "metadata": {
        "id": "cGMwqpy_9ahx",
        "outputId": "0ac69618-d2e8-4e38-a2a7-5229164a8d59",
        "colab": {
          "base_uri": "https://localhost:8080/"
        }
      },
      "execution_count": 104,
      "outputs": [
        {
          "output_type": "stream",
          "name": "stdout",
          "text": [
            "Class benign: 212 observations (50.0%)\n",
            "Class malignant: 212 observations (50.0%)\n"
          ]
        }
      ]
    },
    {
      "cell_type": "code",
      "source": [
        "logreg_oversampled_reduced = LogisticRegression(max_iter=10000)"
      ],
      "metadata": {
        "id": "NUZAu0Oh9ahy"
      },
      "execution_count": 105,
      "outputs": []
    },
    {
      "cell_type": "code",
      "source": [
        "cv_results_oversampled_reduced = cross_validate(logreg_oversampled_reduced, X_oversampled_reduced, y_oversampled_reduced, cv=5, scoring=('accuracy', 'recall', 'precision'))"
      ],
      "metadata": {
        "id": "ZzDNhm3_9ahy"
      },
      "execution_count": 106,
      "outputs": []
    },
    {
      "cell_type": "code",
      "source": [
        "result_oversampled_reduced = get_mean_result(cv_results_oversampled_reduced)"
      ],
      "metadata": {
        "id": "zRoz4Nsl9ahy"
      },
      "execution_count": 107,
      "outputs": []
    },
    {
      "cell_type": "code",
      "source": [
        "print(result_oversampled_reduced)"
      ],
      "metadata": {
        "id": "LjFXpI5_9ahy",
        "outputId": "39f62774-93c7-4fad-d31d-f56e5bf8b7a3",
        "colab": {
          "base_uri": "https://localhost:8080/"
        }
      },
      "execution_count": 108,
      "outputs": [
        {
          "output_type": "stream",
          "name": "stdout",
          "text": [
            "{'accuracy': 0.9835, 'recall': 0.9857, 'precision': 0.982}\n"
          ]
        }
      ]
    },
    {
      "cell_type": "markdown",
      "source": [
        "## Cost weight"
      ],
      "metadata": {
        "id": "s42EQoFc2l-C"
      }
    },
    {
      "cell_type": "markdown",
      "source": [
        "#### Original"
      ],
      "metadata": {
        "id": "eC7leygt9UOq"
      }
    },
    {
      "cell_type": "code",
      "source": [
        "weights = [(i+3)/2 for i in range(20)]\n",
        "print(weights)"
      ],
      "metadata": {
        "id": "RY_xcOEy2LrI",
        "outputId": "b7547f7d-ed88-489b-981d-58e53be51b8e",
        "colab": {
          "base_uri": "https://localhost:8080/"
        }
      },
      "execution_count": 109,
      "outputs": [
        {
          "output_type": "stream",
          "name": "stdout",
          "text": [
            "[1.5, 2.0, 2.5, 3.0, 3.5, 4.0, 4.5, 5.0, 5.5, 6.0, 6.5, 7.0, 7.5, 8.0, 8.5, 9.0, 9.5, 10.0, 10.5, 11.0]\n"
          ]
        }
      ]
    },
    {
      "cell_type": "code",
      "source": [
        "cost_scores = {}\n",
        "for w in weights:\n",
        "    logreg_cost = LogisticRegression(max_iter=10000, class_weight={0: 1, 1: w})\n",
        "    cv_results_cost = cross_validate(logreg_cost, X, y, cv=5, scoring=('accuracy', 'recall', 'precision'))\n",
        "    result_cost = get_mean_result(cv_results_cost)\n",
        "    print(f\"Weight {w}:\")\n",
        "    print(result_cost)\n",
        "    cost_scores[str(w)] = result_cost"
      ],
      "metadata": {
        "id": "kDp6lzJF24ky",
        "outputId": "3f26a752-fb80-4230-e2eb-f2f0b4ea0579",
        "colab": {
          "base_uri": "https://localhost:8080/"
        }
      },
      "execution_count": 110,
      "outputs": [
        {
          "output_type": "stream",
          "name": "stdout",
          "text": [
            "Weight 1.5:\n",
            "{'accuracy': 0.9473, 'recall': 0.9748, 'precision': 0.944}\n",
            "Weight 2.0:\n",
            "{'accuracy': 0.9473, 'recall': 0.9748, 'precision': 0.944}\n",
            "Weight 2.5:\n",
            "{'accuracy': 0.9456, 'recall': 0.9776, 'precision': 0.939}\n",
            "Weight 3.0:\n",
            "{'accuracy': 0.9473, 'recall': 0.9832, 'precision': 0.9369}\n",
            "Weight 3.5:\n",
            "{'accuracy': 0.9473, 'recall': 0.986, 'precision': 0.9347}\n",
            "Weight 4.0:\n",
            "{'accuracy': 0.9473, 'recall': 0.986, 'precision': 0.9343}\n",
            "Weight 4.5:\n",
            "{'accuracy': 0.9438, 'recall': 0.9888, 'precision': 0.9274}\n",
            "Weight 5.0:\n",
            "{'accuracy': 0.9438, 'recall': 0.9888, 'precision': 0.9274}\n",
            "Weight 5.5:\n",
            "{'accuracy': 0.9438, 'recall': 0.9916, 'precision': 0.9253}\n",
            "Weight 6.0:\n",
            "{'accuracy': 0.9456, 'recall': 0.9944, 'precision': 0.9255}\n",
            "Weight 6.5:\n",
            "{'accuracy': 0.9438, 'recall': 0.9944, 'precision': 0.9231}\n",
            "Weight 7.0:\n",
            "{'accuracy': 0.9438, 'recall': 0.9916, 'precision': 0.9254}\n",
            "Weight 7.5:\n",
            "{'accuracy': 0.9473, 'recall': 0.9972, 'precision': 0.9257}\n",
            "Weight 8.0:\n",
            "{'accuracy': 0.9491, 'recall': 0.9972, 'precision': 0.9279}\n",
            "Weight 8.5:\n",
            "{'accuracy': 0.9473, 'recall': 0.9972, 'precision': 0.9257}\n",
            "Weight 9.0:\n",
            "{'accuracy': 0.9473, 'recall': 0.9972, 'precision': 0.9257}\n",
            "Weight 9.5:\n",
            "{'accuracy': 0.9473, 'recall': 0.9972, 'precision': 0.9257}\n",
            "Weight 10.0:\n",
            "{'accuracy': 0.9473, 'recall': 0.9972, 'precision': 0.9257}\n",
            "Weight 10.5:\n",
            "{'accuracy': 0.9456, 'recall': 0.9972, 'precision': 0.9231}\n",
            "Weight 11.0:\n",
            "{'accuracy': 0.9456, 'recall': 0.9972, 'precision': 0.9233}\n"
          ]
        }
      ]
    },
    {
      "cell_type": "markdown",
      "source": [
        "#### Reduced"
      ],
      "metadata": {
        "id": "8JIA2gJu9WyJ"
      }
    },
    {
      "cell_type": "code",
      "source": [
        "cost_scores_reduced = {}\n",
        "for w in weights:\n",
        "    logreg_cost = LogisticRegression(max_iter=10000, class_weight={0: 1, 1: w})\n",
        "    cv_results_cost = cross_validate(logreg_cost, X_reduced, y_reduced, cv=5, scoring=('accuracy', 'recall', 'precision'))\n",
        "    result_cost = get_mean_result(cv_results_cost)\n",
        "    print(f\"Weight {w}:\")\n",
        "    print(result_cost)\n",
        "    cost_scores_reduced[str(w)] = result_cost"
      ],
      "metadata": {
        "id": "Fe_Mvwxu9sFm",
        "outputId": "7cfd3b75-88df-4bf4-871e-56da3e77c635",
        "colab": {
          "base_uri": "https://localhost:8080/"
        }
      },
      "execution_count": 111,
      "outputs": [
        {
          "output_type": "stream",
          "name": "stdout",
          "text": [
            "Weight 1.5:\n",
            "{'accuracy': 0.9618, 'recall': 0.84, 'precision': 0.8429}\n",
            "Weight 2.0:\n",
            "{'accuracy': 0.9618, 'recall': 0.84, 'precision': 0.8429}\n",
            "Weight 2.5:\n",
            "{'accuracy': 0.9618, 'recall': 0.84, 'precision': 0.8429}\n",
            "Weight 3.0:\n",
            "{'accuracy': 0.966, 'recall': 0.88, 'precision': 0.8429}\n",
            "Weight 3.5:\n",
            "{'accuracy': 0.966, 'recall': 0.88, 'precision': 0.8429}\n",
            "Weight 4.0:\n",
            "{'accuracy': 0.966, 'recall': 0.88, 'precision': 0.8429}\n",
            "Weight 4.5:\n",
            "{'accuracy': 0.9618, 'recall': 0.88, 'precision': 0.825}\n",
            "Weight 5.0:\n",
            "{'accuracy': 0.9618, 'recall': 0.88, 'precision': 0.825}\n",
            "Weight 5.5:\n",
            "{'accuracy': 0.9618, 'recall': 0.88, 'precision': 0.825}\n",
            "Weight 6.0:\n",
            "{'accuracy': 0.9618, 'recall': 0.88, 'precision': 0.825}\n",
            "Weight 6.5:\n",
            "{'accuracy': 0.9618, 'recall': 0.88, 'precision': 0.825}\n",
            "Weight 7.0:\n",
            "{'accuracy': 0.966, 'recall': 0.92, 'precision': 0.825}\n",
            "Weight 7.5:\n",
            "{'accuracy': 0.966, 'recall': 0.92, 'precision': 0.825}\n",
            "Weight 8.0:\n",
            "{'accuracy': 0.966, 'recall': 0.92, 'precision': 0.825}\n",
            "Weight 8.5:\n",
            "{'accuracy': 0.966, 'recall': 0.92, 'precision': 0.825}\n",
            "Weight 9.0:\n",
            "{'accuracy': 0.966, 'recall': 0.92, 'precision': 0.825}\n",
            "Weight 9.5:\n",
            "{'accuracy': 0.966, 'recall': 0.92, 'precision': 0.825}\n",
            "Weight 10.0:\n",
            "{'accuracy': 0.966, 'recall': 0.92, 'precision': 0.825}\n",
            "Weight 10.5:\n",
            "{'accuracy': 0.966, 'recall': 0.92, 'precision': 0.825}\n",
            "Weight 11.0:\n",
            "{'accuracy': 0.966, 'recall': 0.92, 'precision': 0.825}\n"
          ]
        }
      ]
    },
    {
      "cell_type": "markdown",
      "source": [
        "## Plot"
      ],
      "metadata": {
        "id": "6x0mVpvw5PtE"
      }
    },
    {
      "cell_type": "code",
      "source": [
        "tmp = {\n",
        "    'original': result,\n",
        "    'reduced': result_reduced,\n",
        "    'undersampling': result_undersampled,\n",
        "    'undersampling_reduced': result_undersampled_reduced,\n",
        "    'oversampling': result_oversampled,\n",
        "    'oversampling_reduced': result_oversampled_reduced,\n",
        "    'cost_aware': cost_scores['8.0'],\n",
        "    'cost_aware_reduced': cost_scores_reduced['7.0'],\n",
        "}"
      ],
      "metadata": {
        "id": "rARTJmY63vCa"
      },
      "execution_count": 125,
      "outputs": []
    },
    {
      "cell_type": "code",
      "source": [
        "method = []\n",
        "metric = []\n",
        "value = []"
      ],
      "metadata": {
        "id": "56mTwU_e6OuT"
      },
      "execution_count": 126,
      "outputs": []
    },
    {
      "cell_type": "code",
      "source": [
        "for k, v in tmp.items():\n",
        "    for m in ['accuracy', 'recall', 'precision']:\n",
        "        method.append(k)\n",
        "        metric.append(m)\n",
        "        value.append(tmp[k][m])\n",
        "\n",
        "df_dict = {\n",
        "    'method': method,\n",
        "    'metric': metric,\n",
        "    'value': value,\n",
        "}"
      ],
      "metadata": {
        "id": "pmpDs8mz6c2W"
      },
      "execution_count": 127,
      "outputs": []
    },
    {
      "cell_type": "code",
      "source": [
        "df = pd.DataFrame.from_dict(df_dict)"
      ],
      "metadata": {
        "id": "SIwn9jGS606W"
      },
      "execution_count": 128,
      "outputs": []
    },
    {
      "cell_type": "code",
      "source": [
        "sns.set_theme(style=\"whitegrid\")\n",
        "sns.set(rc={'figure.figsize':(16,8)})\n",
        "\n",
        "df_original = df.loc[df['method'].isin(['original', 'undersampling', 'oversampling', 'cost_aware'])]\n",
        "\n",
        "g = sns.barplot(\n",
        "    data=df_original,\n",
        "    x=\"method\", y=\"value\", hue=\"metric\",\n",
        "    palette=\"dark\", alpha=.6, width=0.3\n",
        ")\n",
        "sns.move_legend(g, \"upper left\", bbox_to_anchor=(1, 1))\n",
        "g.set(ylim=(0.6, 1))\n",
        "g.set_title('Difeerent metrics value across dataset balancig methods for original data')\n",
        "plt.show()"
      ],
      "metadata": {
        "id": "Yh5a9Omn7GpU",
        "outputId": "b4a2c1aa-813c-41c5-e9a9-d72dfc305790",
        "colab": {
          "base_uri": "https://localhost:8080/",
          "height": 727
        }
      },
      "execution_count": 131,
      "outputs": [
        {
          "output_type": "display_data",
          "data": {
            "text/plain": [
              "<Figure size 1600x800 with 1 Axes>"
            ],
            "image/png": "[encoded data removed]"
          },
          "metadata": {}
        }
      ]
    },
    {
      "cell_type": "code",
      "source": [
        "sns.set_theme(style=\"whitegrid\")\n",
        "sns.set(rc={'figure.figsize':(16,8)})\n",
        "\n",
        "df_reduced = df.loc[df['method'].isin(['reduced', 'undersampling_reduced', 'oversampling_reduced', 'cost_aware_reduced'])]\n",
        "\n",
        "g = sns.barplot(\n",
        "    data=df_reduced,\n",
        "    x=\"method\", y=\"value\", hue=\"metric\",\n",
        "    palette=\"dark\", alpha=.6, width=0.3\n",
        ")\n",
        "sns.move_legend(g, \"upper left\", bbox_to_anchor=(1, 1))\n",
        "g.set(ylim=(0.6, 1))\n",
        "g.set_title('Difeerent metrics value across dataset balancig methods for reduced data')\n",
        "plt.show()"
      ],
      "metadata": {
        "id": "-_FOe-ua8ooD",
        "outputId": "cc68f394-bcce-457c-9a1f-168871e7dbfe",
        "colab": {
          "base_uri": "https://localhost:8080/",
          "height": 728
        }
      },
      "execution_count": 133,
      "outputs": [
        {
          "output_type": "display_data",
          "data": {
            "text/plain": [
              "<Figure size 1600x800 with 1 Axes>"
            ],
            "image/png": "[encoded data removed]"
          },
          "metadata": {}
        }
      ]
    },
    {
      "cell_type": "code",
      "source": [],
      "metadata": {
        "id": "N2xHV7Ht_6Kl"
      },
      "execution_count": null,
      "outputs": []
    }
  ],
  "metadata": {
    "kernelspec": {
      "display_name": "Python 3.10.8 64-bit",
      "language": "python",
      "name": "python3"
    },
    "language_info": {
      "name": "python",
      "version": "3.10.8"
    },
    "orig_nbformat": 4,
    "vscode": {
      "interpreter": {
        "hash": "26de051ba29f2982a8de78e945f0abaf191376122a1563185a90213a26c5da77"
      }
    },
    "colab": {
      "provenance": []
    }
  },
  "nbformat": 4,
  "nbformat_minor": 0
}